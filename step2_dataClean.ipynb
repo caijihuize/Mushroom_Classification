{
  "cells": [
    {
      "cell_type": "markdown",
      "source": [
        "# 数据集\n",
        "\n"
      ],
      "metadata": {
        "id": "zL7FdUwf7_M1"
      }
    },
    {
      "cell_type": "markdown",
      "source": [
        "## 数据集下载\n",
        "\n",
        "关于本项目的数据集保存在[Kaggle](https://www.kaggle.com/)的[huizecai/mushroom](https://www.kaggle.com/datasets/huizecai/mushroom)中，下面的单元格可以直接下载该数据集并返回其路径。"
      ],
      "metadata": {
        "id": "tJmst4Ck8UIJ"
      }
    },
    {
      "cell_type": "code",
      "execution_count": null,
      "metadata": {
        "trusted": true,
        "id": "DE-AmgP8cAmb"
      },
      "outputs": [],
      "source": [
        "import os\n",
        "import kagglehub\n",
        "\n",
        "# 使用KaggleHub下载数据集\n",
        "dataset_name = \"huizecai/mushroom\"\n",
        "path = kagglehub.dataset_download(dataset_name)\n",
        "\n",
        "print(\"Path to dataset files:\", path)"
      ]
    },
    {
      "cell_type": "markdown",
      "source": [
        "## 计算各蘑菇种类的图片数量\n",
        "\n",
        "由于tensorflow中会有中文路径异常问题，该数据集中的各种类的文件夹名以“classXX”来命名，并用label.txt来与其中文名进行映射。"
      ],
      "metadata": {
        "id": "MVChVsT_97wJ"
      }
    },
    {
      "cell_type": "code",
      "execution_count": null,
      "metadata": {
        "trusted": true,
        "id": "XN4YxYi5cAmc"
      },
      "outputs": [],
      "source": [
        "dataset_path = path + '/archive/data'\n",
        "label_path = path + '/archive/label.txt'\n",
        "\n",
        "# 获取所有子目录（即蘑菇类别）\n",
        "dir_names = [d for d in os.listdir(dataset_path) if os.path.isdir(os.path.join(dataset_path, d))]\n",
        "\n",
        "# 读取 label.txt 并解析内容\n",
        "categories = {}\n",
        "with open(label_path, 'r', encoding='utf-8') as file:\n",
        "    for line in file:\n",
        "        parts = line.strip().split()\n",
        "        if len(parts) == 2:\n",
        "            category_name = parts[0]\n",
        "            category_id = parts[1]\n",
        "            categories[category_id] = category_name\n",
        "\n",
        "# 统计每种类别的图像数量\n",
        "category_counts = {}\n",
        "for category_id in categories.keys():\n",
        "    if category_id in dir_names:  # 确保目录存在\n",
        "        category_dir = os.path.join(dataset_path, category_id)\n",
        "        num_images = len([f for f in os.listdir(category_dir) if f.endswith('.jpg') or f.endswith('.jpeg')])\n",
        "        category_counts[categories[category_id]] = num_images\n",
        "\n",
        "print(\"Category counts:\", category_counts)"
      ]
    },
    {
      "cell_type": "markdown",
      "source": [
        "## 处理中文字体异常问题\n",
        "\n",
        "在部分运行环境中，matplotlib可能会出现中文显示异常问题。此处将加载“SimHei”字体以解决该问题。"
      ],
      "metadata": {
        "id": "i374m8Jd-ob6"
      }
    },
    {
      "cell_type": "code",
      "execution_count": null,
      "metadata": {
        "id": "Hv_Ltg1xcAmd"
      },
      "outputs": [],
      "source": [
        "import urllib.request\n",
        "import matplotlib.pyplot as plt\n",
        "from matplotlib.font_manager import FontProperties, fontManager\n",
        "\n",
        "# 下载并保存字体文件\n",
        "font_url = \"https://github.com/caijihuize/Mushroom_Classification/raw/main/SimHei.ttf\"\n",
        "font_name = \"SimHei.ttf\"\n",
        "if not os.path.exists(font_name):\n",
        "    urllib.request.urlretrieve(font_url, font_name)\n",
        "\n",
        "# 注册字体文件到matplotlib的字体管理器\n",
        "fontManager.addfont(font_name)\n",
        "\n",
        "# 设置字体属性\n",
        "font_prop = FontProperties(fname=font_name)\n",
        "\n",
        "# 确保matplotlib使用正确的字体族名称\n",
        "plt.rcParams['font.family'] = 'SimHei'\n",
        "plt.rcParams['axes.unicode_minus'] = False\n",
        "\n",
        "# 示例绘图\n",
        "plt.title('这是一个标题', fontproperties=font_prop)\n",
        "plt.xlabel('X轴标签', fontproperties=font_prop)\n",
        "plt.ylabel('Y轴标签', fontproperties=font_prop)\n",
        "plt.plot([0, 1, 2, 3], [0, 1, 4, 9])\n",
        "plt.show()"
      ]
    },
    {
      "cell_type": "markdown",
      "source": [
        "## 绘制各种类图片数量的柱状图"
      ],
      "metadata": {
        "id": "x-jZkqsW_tQ6"
      }
    },
    {
      "cell_type": "code",
      "execution_count": null,
      "metadata": {
        "trusted": true,
        "id": "9aAf366McAmd"
      },
      "outputs": [],
      "source": [
        "# 准备数据\n",
        "categories_readable = list(category_counts.keys())\n",
        "counts = list(category_counts.values())\n",
        "\n",
        "# 创建一个新的图形\n",
        "plt.figure(figsize=(14, 8))\n",
        "\n",
        "# 绘制柱状图\n",
        "bars = plt.barh(categories_readable, counts, color='skyblue')\n",
        "\n",
        "# 添加数据标签\n",
        "for bar in bars:\n",
        "    width = bar.get_width()\n",
        "    plt.text(width + 1, bar.get_y() + bar.get_height()/2, '%d' % int(width), va='center')\n",
        "\n",
        "# 设置标题和标签\n",
        "plt.title('各蘑菇种类的图片数量', fontsize=20)\n",
        "plt.xlabel('图片数量', fontsize=16)\n",
        "plt.ylabel('蘑菇种类', fontsize=16)\n",
        "\n",
        "# 设置网格\n",
        "plt.grid(axis='x', linestyle='--', alpha=0.7)\n",
        "# 自动调整布局\n",
        "plt.tight_layout()\n",
        "\n",
        "# 显示图形\n",
        "plt.show()"
      ]
    },
    {
      "cell_type": "markdown",
      "source": [
        "# 训练准备工作"
      ],
      "metadata": {
        "id": "aP2oyCdcDePo"
      }
    },
    {
      "cell_type": "markdown",
      "source": [
        "## 加载图像数据集\n",
        "\n",
        "使用 TensorFlow 的 [image_dataset_from_directory](https://tensorflow.google.cn/api_docs/python/tf/keras/preprocessing/image_dataset_from_directory?hl=en) 函数加载和准备图像数据集：\n",
        "\n",
        "\n",
        "*   directory=dataset_path ：指定图像数据所在的路径。\n",
        "*   image_size=(224, 224) ：指定每个图像的大小为224x224像素。\n",
        "*   batch_size=32 ：指定每个批次包含32张图像。\n",
        "*   validation_split=0.1 ：指定10%的数据作为验证集。\n",
        "*   subset='both' ：指定同时返回训练集和验证集。\n",
        "*   label_mode='categorical' ：指定标签模式为分类模式，返回one-hot编码的标签。\n",
        "*   seed=21 ：设置随机种子以确保数据集的可重复性。\n",
        "\n"
      ],
      "metadata": {
        "id": "IInl-UREEOOr"
      }
    },
    {
      "cell_type": "code",
      "source": [
        "import tensorflow as tf\n",
        "\n",
        "# 加载和准备图像数据集\n",
        "train_dataset, validation_dataset = tf.keras.preprocessing.image_dataset_from_directory(\n",
        "    directory=dataset_path,\n",
        "    image_size=(224, 224),\n",
        "    batch_size=32,\n",
        "    validation_split=0.1,\n",
        "    subset='both',\n",
        "    label_mode='categorical',\n",
        "    seed=21\n",
        ")"
      ],
      "metadata": {
        "id": "Jxk-SQQ-fiNv"
      },
      "execution_count": null,
      "outputs": []
    },
    {
      "cell_type": "markdown",
      "source": [
        "## 计算训练集和验证集的各种类图片分布"
      ],
      "metadata": {
        "id": "7iVqn2bVNewl"
      }
    },
    {
      "cell_type": "code",
      "source": [
        "import numpy as np\n",
        "\n",
        "# 获取类别名称\n",
        "class_names = train_dataset.class_names\n",
        "\n",
        "# 初始化字典用于存储每种类别的图像数量\n",
        "train_category_counts = {name: 0 for name in categories.values()}\n",
        "validation_category_counts = {name: 0 for name in categories.values()}\n",
        "\n",
        "# 统计训练集中的图像数量\n",
        "for images, labels in train_dataset:\n",
        "    for label in labels.numpy():\n",
        "        category_name = class_names[np.argmax(label)]\n",
        "        train_category_counts[categories[category_name]] += 1\n",
        "\n",
        "# 统计验证集中的图像数量\n",
        "for images, labels in validation_dataset:\n",
        "    for label in labels.numpy():\n",
        "        category_name = class_names[np.argmax(label)]\n",
        "        validation_category_counts[categories[category_name]] += 1\n",
        "\n",
        "\n",
        "print(\"训练集类别图像数量统计:\", train_category_counts)\n",
        "print(\"验证集类别图像数量统计:\", validation_category_counts)"
      ],
      "metadata": {
        "id": "W0a6DQ-dIQSN"
      },
      "execution_count": null,
      "outputs": []
    },
    {
      "cell_type": "markdown",
      "source": [
        "## 绘制训练集和验证集的柱状图"
      ],
      "metadata": {
        "id": "O9PmfburNand"
      }
    },
    {
      "cell_type": "code",
      "source": [
        "# 准备数据\n",
        "categories_readable = list(categories.values())  # 使用中文名映射\n",
        "train_counts = [train_category_counts[name] for name in categories_readable]\n",
        "validation_counts = [validation_category_counts[name] for name in categories_readable]\n",
        "\n",
        "# 创建一个新的图形\n",
        "plt.figure(figsize=(14, 8))\n",
        "\n",
        "# 设置柱子的位置\n",
        "bar_width = 0.35\n",
        "index = np.arange(len(categories_readable))\n",
        "\n",
        "# 绘制训练集柱状图\n",
        "bars_train = plt.barh(index + bar_width, train_counts, bar_width, label='训练集', color='skyblue')\n",
        "\n",
        "# 绘制验证集柱状图\n",
        "bars_validation = plt.barh(index, validation_counts, bar_width, label='测试集', color='orange')\n",
        "\n",
        "# 添加数据标签\n",
        "def add_labels(bars):\n",
        "    for bar in bars:\n",
        "        width = bar.get_width()\n",
        "        plt.text(width + 1, bar.get_y() + bar.get_height() / 2, '%d' % int(width), ha='left', va='center')\n",
        "\n",
        "add_labels(bars_train)\n",
        "add_labels(bars_validation)\n",
        "\n",
        "# 设置标题和标签\n",
        "plt.title('各蘑菇种类的图片数量 (Train vs Validation)', fontsize=20)\n",
        "plt.xlabel('图片数量', fontsize=16)\n",
        "plt.ylabel('蘑菇种类', fontsize=16)\n",
        "\n",
        "# 设置Y轴刻度\n",
        "plt.yticks(index + bar_width / 2, categories_readable)\n",
        "\n",
        "# 显示网格\n",
        "plt.grid(axis='x', linestyle='--', alpha=0.7)\n",
        "\n",
        "# 添加图例\n",
        "plt.legend()\n",
        "\n",
        "# 自动调整布局\n",
        "plt.tight_layout()\n",
        "\n",
        "# 显示图形\n",
        "plt.show()"
      ],
      "metadata": {
        "id": "VR2URGk4JLd8"
      },
      "execution_count": null,
      "outputs": []
    },
    {
      "cell_type": "markdown",
      "source": [
        "## 显示数据集中的图像样本"
      ],
      "metadata": {
        "id": "w3psFiWZHOXw"
      }
    },
    {
      "cell_type": "code",
      "source": [
        "# 获取类别名称\n",
        "class_names = train_dataset.class_names\n",
        "\n",
        "# 设置要显示的图像数量\n",
        "num_images_to_show = 4\n",
        "images_to_display = []\n",
        "labels_to_display = []\n",
        "\n",
        "# 从数据集中获取随机选择的图像和标签\n",
        "for images, labels in train_dataset.take(1):\n",
        "    indices = np.random.choice(range(images.shape[0]), num_images_to_show, replace=False)\n",
        "    for index in indices:\n",
        "        images_to_display.append(images[index])\n",
        "        labels_to_display.append(labels[index])\n",
        "\n",
        "# 创建图形并显示图像\n",
        "fig, axes = plt.subplots(1, num_images_to_show, figsize=(12, 4))\n",
        "for i, (image, label) in enumerate(zip(images_to_display, labels_to_display)):\n",
        "    ax = axes[i]\n",
        "    ax.imshow(image.numpy().astype(\"uint8\"))\n",
        "    ax.set_title(categories[class_names[np.argmax(label.numpy())]], fontsize=20)\n",
        "    ax.axis(\"off\")\n",
        "\n",
        "plt.tight_layout()\n",
        "plt.show()"
      ],
      "metadata": {
        "id": "9lZeeEEgesTm"
      },
      "execution_count": null,
      "outputs": []
    },
    {
      "cell_type": "markdown",
      "source": [
        "# 数据增强"
      ],
      "metadata": {
        "id": "x3cwpuE9O5nP"
      }
    },
    {
      "cell_type": "markdown",
      "source": [
        "数据增强是一种常用的技术，用于通过变换现有数据来增加训练数据的多样性，从而提高模型的泛化能力。在图像处理中，常见的数据增强技术包括旋转、翻转、缩放、裁剪、亮度调整等。"
      ],
      "metadata": {
        "id": "fIJTyyTQP1fL"
      }
    },
    {
      "cell_type": "markdown",
      "source": [
        "## 定义数据增强层"
      ],
      "metadata": {
        "id": "pW2ujx4-RvQg"
      }
    },
    {
      "cell_type": "code",
      "source": [
        "# 定义数据增强的预处理层\n",
        "data_augmentation = tf.keras.Sequential([\n",
        "    tf.keras.layers.RandomFlip(\"horizontal\"),  # 水平翻转\n",
        "    tf.keras.layers.RandomRotation(0.2),       # 随机旋转最多20%\n",
        "    tf.keras.layers.RandomZoom(0.2, 0.2),      # 随机缩放\n",
        "    tf.keras.layers.RandomContrast(0.2),       # 随机对比度调整\n",
        "    tf.keras.layers.RandomBrightness(0.2)      # 随机亮度调整\n",
        "])"
      ],
      "metadata": {
        "id": "n1bKrejhgePO"
      },
      "execution_count": null,
      "outputs": []
    },
    {
      "cell_type": "markdown",
      "source": [
        "## 定义显示数据增强示例函数"
      ],
      "metadata": {
        "id": "I53w8VKuRz9t"
      }
    },
    {
      "cell_type": "code",
      "source": [
        "def demo_augmentation(sample_image, model, num_aug):\n",
        "    '''Takes a single image array, then uses a model to generate num_aug transformations'''\n",
        "\n",
        "    # Instantiate preview list\n",
        "    image_preview = []\n",
        "\n",
        "    # Convert input image to a PIL image instance\n",
        "    sample_image_pil = tf.keras.utils.array_to_img(sample_image)\n",
        "\n",
        "    # Append the result to the list\n",
        "    image_preview.append(sample_image_pil)\n",
        "\n",
        "    # Apply the image augmentation and append the results to the list\n",
        "    for i in range(NUM_AUG):\n",
        "        sample_image_aug = model(tf.expand_dims(sample_image, axis=0))\n",
        "        sample_image_aug_pil = tf.keras.utils.array_to_img(tf.squeeze(sample_image_aug))\n",
        "        image_preview.append(sample_image_aug_pil)\n",
        "\n",
        "    # Instantiate a subplot\n",
        "    fig, axes = plt.subplots(1, NUM_AUG + 1, figsize=(12, 12))\n",
        "\n",
        "    # Preview the images.\n",
        "    for index, ax in enumerate(axes):\n",
        "        ax.imshow(image_preview[index])\n",
        "        ax.set_axis_off()\n",
        "\n",
        "        if index == 0:\n",
        "            ax.set_title('original')\n",
        "        else:\n",
        "            ax.set_title(f'augment {index}')"
      ],
      "metadata": {
        "id": "-FayHXVxtypj"
      },
      "execution_count": null,
      "outputs": []
    },
    {
      "cell_type": "markdown",
      "source": [
        "## 获取随机批次"
      ],
      "metadata": {
        "id": "lvJSBnm7SK5c"
      }
    },
    {
      "cell_type": "code",
      "source": [
        "# 获取训练集中随机的一批次图片\n",
        "sample_batch = list(train_dataset.take(1))[0][0]\n",
        "print(f'images per batch: {len(sample_batch)}')"
      ],
      "metadata": {
        "id": "55HfA-g5uG8o"
      },
      "execution_count": null,
      "outputs": []
    },
    {
      "cell_type": "markdown",
      "source": [
        "## 显示数据增强示例"
      ],
      "metadata": {
        "id": "m7YzAYs5VBUq"
      }
    },
    {
      "cell_type": "code",
      "source": [
        "NUM_AUG = 5\n",
        "\n",
        "# Apply the transformations to the first 4 images\n",
        "demo_augmentation(sample_batch[0], data_augmentation, NUM_AUG)\n",
        "demo_augmentation(sample_batch[1], data_augmentation, NUM_AUG)\n",
        "demo_augmentation(sample_batch[2], data_augmentation, NUM_AUG)\n",
        "demo_augmentation(sample_batch[3], data_augmentation, NUM_AUG)"
      ],
      "metadata": {
        "id": "mfeF4w3Qt725"
      },
      "execution_count": null,
      "outputs": []
    },
    {
      "cell_type": "markdown",
      "source": [
        "# 常用显示函数"
      ],
      "metadata": {
        "id": "HMccJ_imamqA"
      }
    },
    {
      "cell_type": "code",
      "source": [
        "def show_history(history):\n",
        "  # 绘制训练过程中的损失和准确率曲线\n",
        "  plt.figure(figsize=(12, 4))\n",
        "\n",
        "  plt.subplot(1, 2, 1)\n",
        "  plt.plot(history.history['loss'], label='Training Loss')\n",
        "  plt.plot(history.history['val_loss'], label='Validation Loss')\n",
        "  plt.title('Loss Over Epochs')\n",
        "  plt.xlabel('Epoch')\n",
        "  plt.ylabel('Loss')\n",
        "  plt.legend()\n",
        "\n",
        "  plt.subplot(1, 2, 2)\n",
        "  plt.plot(history.history['accuracy'], label='Training Accuracy')\n",
        "  plt.plot(history.history['val_accuracy'], label='Validation Accuracy')\n",
        "  plt.title('Accuracy Over Epochs')\n",
        "  plt.xlabel('Epoch')\n",
        "  plt.ylabel('Accuracy')\n",
        "  plt.legend()\n",
        "\n",
        "  plt.tight_layout()\n",
        "  plt.show()"
      ],
      "metadata": {
        "id": "magj2cqVUiZJ"
      },
      "execution_count": null,
      "outputs": []
    },
    {
      "cell_type": "code",
      "source": [
        "from IPython.display import clear_output\n",
        "\n",
        "# 在训练完成后计算每个类别的准确率\n",
        "def calculate_class_accuracies(model, dataset):\n",
        "    all_predictions = []\n",
        "    all_true_labels = []\n",
        "\n",
        "    for images, labels in dataset:\n",
        "        predictions = model.predict(images)\n",
        "        predicted_classes = np.argmax(predictions, axis=1)\n",
        "        true_classes = np.argmax(labels, axis=1)\n",
        "\n",
        "        all_predictions.extend(predicted_classes)\n",
        "        all_true_labels.extend(true_classes)\n",
        "\n",
        "    class_accuracies = {}\n",
        "    for class_index in range(len(class_names)):\n",
        "        mask = (np.array(all_true_labels) == class_index)\n",
        "        correct_predictions = np.sum(np.array(all_predictions)[mask] == class_index)\n",
        "        total_samples = np.sum(mask)\n",
        "        if total_samples > 0:\n",
        "            accuracy = correct_predictions / total_samples\n",
        "        else:\n",
        "            accuracy = 0\n",
        "        class_accuracies[class_names[class_index]] = accuracy\n",
        "\n",
        "    clear_output(wait=True)\n",
        "\n",
        "    # 准备数据\n",
        "    categories_readable = list(categories[class_name] for class_name in class_accuracies.keys())\n",
        "    accuracies = list(class_accuracies.values())\n",
        "\n",
        "    # 创建一个新的图形\n",
        "    plt.figure(figsize=(14, 8))\n",
        "\n",
        "    # 绘制柱状图\n",
        "    bars = plt.barh(categories_readable, accuracies, color='skyblue')\n",
        "\n",
        "    # 添加数据标签\n",
        "    for bar in bars:\n",
        "        width = bar.get_width()\n",
        "        plt.text(width + 0.01, bar.get_y() + bar.get_height()/2, f'{width:.4f}', va='center')\n",
        "\n",
        "    # 设置标题和标签\n",
        "    plt.title('各类别准确率', fontsize=20)\n",
        "    plt.xlabel('准确率', fontsize=16)\n",
        "    plt.ylabel('类别', fontsize=16)\n",
        "\n",
        "    # 设置网格\n",
        "    plt.grid(axis='x', linestyle='--', alpha=0.7)\n",
        "    # 自动调整布局\n",
        "    plt.tight_layout()\n",
        "\n",
        "    # 显示图形\n",
        "    plt.show()\n",
        "\n",
        "    return class_accuracies"
      ],
      "metadata": {
        "id": "geSO-2Iyn777"
      },
      "execution_count": 57,
      "outputs": []
    },
    {
      "cell_type": "markdown",
      "source": [
        "# MobileNetV1模型"
      ],
      "metadata": {
        "id": "jWZyIg8ET-S2"
      }
    },
    {
      "cell_type": "code",
      "source": [
        "# 初始化基础模型\n",
        "pre_trained_model = tf.keras.applications.MobileNet(\n",
        "    input_shape=(224, 224, 3),\n",
        "    include_top=False,\n",
        "    weights='imagenet'\n",
        ")\n",
        "\n",
        "# 冻结基础模型的权重\n",
        "for layer in pre_trained_model.layers:\n",
        "    layer.trainable = False\n",
        "\n",
        "# 应用数据增强和预处理\n",
        "x = data_augmentation(pre_trained_model.input)\n",
        "x = tf.keras.applications.mobilenet.preprocess_input(x)\n",
        "\n",
        "# 添加自定义顶层分类器\n",
        "x = pre_trained_model(x)\n",
        "x = tf.keras.layers.GlobalAveragePooling2D()(x)\n",
        "x = tf.keras.layers.Dense(256, activation='relu')(x)\n",
        "#x = Dropout(0.5)(x)\n",
        "predictions = tf.keras.layers.Dense(len(class_names), activation='softmax')(x)\n",
        "\n",
        "# 构建最终模型\n",
        "MobileNet = tf.keras.models.Model(inputs=pre_trained_model.input, outputs=predictions)\n",
        "\n",
        "# 编译模型\n",
        "MobileNet.compile(optimizer=tf.keras.optimizers.Adam(learning_rate=0.0001),\n",
        "              loss='categorical_crossentropy',\n",
        "              metrics=['accuracy'])\n",
        "\n",
        "# 查看模型结构\n",
        "MobileNet.summary()"
      ],
      "metadata": {
        "id": "VwMV06p-UBQC"
      },
      "execution_count": null,
      "outputs": []
    },
    {
      "cell_type": "code",
      "source": [
        "# Train the model\n",
        "MobileNet_history = MobileNet.fit(\n",
        "    train_dataset,\n",
        "    epochs=20,\n",
        "    validation_data=validation_dataset)\n"
      ],
      "metadata": {
        "id": "AltpkA3_UQG4"
      },
      "execution_count": null,
      "outputs": []
    },
    {
      "cell_type": "code",
      "source": [
        "show_history(MobileNet_history)"
      ],
      "metadata": {
        "id": "aizOdvyyUUru"
      },
      "execution_count": null,
      "outputs": []
    },
    {
      "cell_type": "code",
      "source": [
        "# 计算并打印每个类别的准确率\n",
        "calculate_class_accuracies(MobileNet, train_dataset)"
      ],
      "metadata": {
        "id": "NMYSDMKcCgVK",
        "colab": {
          "base_uri": "https://localhost:8080/",
          "height": 1000
        },
        "outputId": "e4c5ce73-9d55-4002-d658-d8a1f271a5a6"
      },
      "execution_count": 58,
      "outputs": [
        {
          "output_type": "display_data",
          "data": {
            "text/plain": [
              "<Figure size 1400x800 with 1 Axes>"
            ],
            "image/png": "[encoded data removed]"
          },
          "metadata": {}
        },
        {
          "output_type": "execute_result",
          "data": {
            "text/plain": [
              "{'class00': np.float64(0.9328859060402684),\n",
              " 'class01': np.float64(0.8450704225352113),\n",
              " 'class02': np.float64(0.8148148148148148),\n",
              " 'class03': np.float64(0.7762237762237763),\n",
              " 'class04': np.float64(0.8451612903225807),\n",
              " 'class05': np.float64(0.7425149700598802),\n",
              " 'class06': np.float64(0.8307692307692308),\n",
              " 'class07': np.float64(0.8242424242424242),\n",
              " 'class08': np.float64(0.5740740740740741),\n",
              " 'class09': np.float64(0.6776859504132231),\n",
              " 'class10': np.float64(0.77),\n",
              " 'class11': np.float64(0.6338028169014085),\n",
              " 'class12': np.float64(0.9254658385093167),\n",
              " 'class13': np.float64(0.9490445859872612),\n",
              " 'class14': np.float64(0.9166666666666666),\n",
              " 'class15': np.float64(0.8881118881118881),\n",
              " 'class16': np.float64(0.89375),\n",
              " 'class17': np.float64(0.8675496688741722),\n",
              " 'class18': np.float64(0.8642857142857143),\n",
              " 'class19': np.float64(0.8823529411764706),\n",
              " 'class20': np.float64(0.7857142857142857),\n",
              " 'class21': np.float64(0.7279411764705882),\n",
              " 'class22': np.float64(0.7409638554216867),\n",
              " 'class23': np.float64(0.7032258064516129),\n",
              " 'class24': np.float64(0.6617647058823529),\n",
              " 'class25': np.float64(0.671875),\n",
              " 'class26': np.float64(0.7552447552447552),\n",
              " 'class27': np.float64(0.8539325842696629),\n",
              " 'class28': np.float64(0.88),\n",
              " 'class29': np.float64(0.8375),\n",
              " 'class30': np.float64(0.9366197183098591),\n",
              " 'class31': np.float64(0.7757575757575758),\n",
              " 'class32': np.float64(0.7396449704142012),\n",
              " 'class33': np.float64(0.9402985074626866),\n",
              " 'class34': np.float64(0.89171974522293),\n",
              " 'class35': np.float64(0.9575757575757575)}"
            ]
          },
          "metadata": {},
          "execution_count": 58
        }
      ]
    },
    {
      "cell_type": "code",
      "source": [
        "convert = tf.lite.TFLiteConverter.from_keras_model(MobileNet)\n",
        "MobileNet_tflite = convert.convert()\n",
        "\n",
        "with open(\"MobileNetV1.tflite\", \"wb\") as f:\n",
        "  f.write(MobileNet_tflite)"
      ],
      "metadata": {
        "id": "hcr0xToSWwun"
      },
      "execution_count": null,
      "outputs": []
    },
    {
      "cell_type": "markdown",
      "source": [
        "# MobileNetV2模型"
      ],
      "metadata": {
        "id": "tVOJo9-FbdpX"
      }
    },
    {
      "cell_type": "code",
      "source": [
        "# 初始化基础模型\n",
        "pre_trained_model = tf.keras.applications.MobileNetV2(\n",
        "    input_shape=(224, 224, 3),\n",
        "    include_top=False,\n",
        "    weights='imagenet'\n",
        ")\n",
        "\n",
        "# 冻结基础模型的权重\n",
        "for layer in pre_trained_model.layers:\n",
        "    layer.trainable = False\n",
        "\n",
        "# 应用数据增强和预处理\n",
        "x = data_augmentation(pre_trained_model.input)\n",
        "x = tf.keras.applications.mobilenet_v2.preprocess_input(x)\n",
        "\n",
        "# 添加自定义顶层分类器\n",
        "x = pre_trained_model(x)\n",
        "x = tf.keras.layers.GlobalAveragePooling2D()(x)\n",
        "x = tf.keras.layers.Dense(256, activation='relu')(x)\n",
        "#x = Dropout(0.5)(x)\n",
        "predictions = tf.keras.layers.Dense(len(class_names), activation='softmax')(x)\n",
        "\n",
        "# 构建最终模型\n",
        "MobileNetV2 = tf.keras.models.Model(inputs=pre_trained_model.input, outputs=predictions)\n",
        "\n",
        "# 编译模型\n",
        "MobileNetV2.compile(optimizer=tf.keras.optimizers.Adam(learning_rate=0.0001),\n",
        "              loss='categorical_crossentropy',\n",
        "              metrics=['accuracy'])\n",
        "\n",
        "# 查看模型结构\n",
        "MobileNetV2.summary()"
      ],
      "metadata": {
        "id": "jUdyuZwGbiuk"
      },
      "execution_count": null,
      "outputs": []
    },
    {
      "cell_type": "code",
      "source": [
        "# Train the model\n",
        "MobileNetV2_history = MobileNetV2.fit(\n",
        "    train_dataset,\n",
        "    epochs=20,\n",
        "    validation_data=validation_dataset)\n"
      ],
      "metadata": {
        "id": "mGjb-2osebli"
      },
      "execution_count": null,
      "outputs": []
    },
    {
      "cell_type": "code",
      "source": [
        "show_history(MobileNetV2_history)"
      ],
      "metadata": {
        "id": "D6hPsH_BOwFa"
      },
      "execution_count": null,
      "outputs": []
    },
    {
      "cell_type": "code",
      "source": [
        "convert = tf.lite.TFLiteConverter.from_keras_model(MobileNetV2)\n",
        "MobileNetV2_tflite = convert.convert()\n",
        "\n",
        "with open(\"MobileNetV2.tflite\", \"wb\") as f:\n",
        "  f.write(MobileNetV2_tflite)"
      ],
      "metadata": {
        "id": "q2BE2f--Yq8M"
      },
      "execution_count": null,
      "outputs": []
    },
    {
      "cell_type": "markdown",
      "source": [
        "# EfficientNet模型"
      ],
      "metadata": {
        "id": "savp0b1IWtC2"
      }
    },
    {
      "cell_type": "code",
      "source": [
        "# 初始化基础模型\n",
        "pre_trained_model = tf.keras.applications.EfficientNetB0(\n",
        "    input_shape=(224, 224, 3),\n",
        "    include_top=False,\n",
        "    weights='imagenet'\n",
        ")\n",
        "\n",
        "# 冻结基础模型的权重\n",
        "for layer in pre_trained_model.layers:\n",
        "    layer.trainable = False\n",
        "\n",
        "# 应用数据增强和预处理\n",
        "x = data_augmentation(pre_trained_model.input)\n",
        "x = tf.keras.applications.efficientnet.preprocess_input(x)\n",
        "\n",
        "# 添加自定义顶层分类器\n",
        "x = pre_trained_model(x)\n",
        "x = tf.keras.layers.GlobalAveragePooling2D()(x)\n",
        "x = tf.keras.layers.Dense(256, activation='relu')(x)\n",
        "#x = Dropout(0.5)(x)\n",
        "predictions = tf.keras.layers.Dense(len(class_names), activation='softmax')(x)\n",
        "\n",
        "# 构建最终模型\n",
        "EfficientNetB0 = tf.keras.models.Model(inputs=pre_trained_model.input, outputs=predictions)\n",
        "\n",
        "# 编译模型\n",
        "EfficientNetB0.compile(optimizer=tf.keras.optimizers.Adam(learning_rate=0.0001),\n",
        "              loss='categorical_crossentropy',\n",
        "              metrics=['accuracy'])\n",
        "\n",
        "# 查看模型结构\n",
        "EfficientNetB0.summary()"
      ],
      "metadata": {
        "id": "eHvAadCCWyUl"
      },
      "execution_count": null,
      "outputs": []
    },
    {
      "cell_type": "code",
      "source": [
        "# Train the model\n",
        "EfficientNetB0_history = EfficientNetB0.fit(\n",
        "    train_dataset,\n",
        "    epochs=20,\n",
        "    validation_data=validation_dataset)\n"
      ],
      "metadata": {
        "id": "MJwxIiQEXPBp"
      },
      "execution_count": null,
      "outputs": []
    },
    {
      "cell_type": "code",
      "source": [
        "show_history(EfficientNetB0_history)"
      ],
      "metadata": {
        "id": "KWhuQRDUXVOG"
      },
      "execution_count": null,
      "outputs": []
    },
    {
      "cell_type": "code",
      "source": [
        "convert = tf.lite.TFLiteConverter.from_keras_model(EfficientNetB0)\n",
        "EfficientNetB0_tflite = convert.convert()\n",
        "\n",
        "with open(\"EfficientNetB0.tflite\", \"wb\") as f:\n",
        "  f.write(EfficientNetB0_tflite)"
      ],
      "metadata": {
        "id": "W8wIMhjLY1be"
      },
      "execution_count": null,
      "outputs": []
    },
    {
      "cell_type": "markdown",
      "source": [
        "# ResNet模型"
      ],
      "metadata": {
        "id": "8Fvu3Ux7k-xq"
      }
    },
    {
      "cell_type": "code",
      "source": [
        "# 初始化基础模型\n",
        "pre_trained_model = tf.keras.applications.ResNet101(\n",
        "    input_shape=(224, 224, 3),\n",
        "    include_top=False,\n",
        "    weights='imagenet'\n",
        ")\n",
        "\n",
        "# 冻结基础模型的权重\n",
        "for layer in pre_trained_model.layers:\n",
        "    layer.trainable = False\n",
        "\n",
        "# 应用数据增强和预处理\n",
        "x = data_augmentation(pre_trained_model.input)\n",
        "x = tf.keras.applications.resnet.preprocess_input(x)\n",
        "\n",
        "# 添加自定义顶层分类器\n",
        "x = pre_trained_model(x)\n",
        "x = tf.keras.layers.GlobalAveragePooling2D()(x)\n",
        "x = tf.keras.layers.Dense(256, activation='relu')(x)\n",
        "#x = Dropout(0.5)(x)\n",
        "predictions = tf.keras.layers.Dense(len(class_names), activation='softmax')(x)\n",
        "\n",
        "# 构建最终模型\n",
        "ResNet101 = tf.keras.models.Model(inputs=pre_trained_model.input, outputs=predictions)\n",
        "\n",
        "# 编译模型\n",
        "ResNet101.compile(optimizer=tf.keras.optimizers.Adam(learning_rate=0.0001),\n",
        "              loss='categorical_crossentropy',\n",
        "              metrics=['accuracy'])\n",
        "\n",
        "# 查看模型结构\n",
        "ResNet101.summary()"
      ],
      "metadata": {
        "id": "CI6EnoEZlG7p"
      },
      "execution_count": null,
      "outputs": []
    },
    {
      "cell_type": "code",
      "source": [
        "# Train the model\n",
        "ResNet101_history = ResNet101.fit(\n",
        "    train_dataset,\n",
        "    epochs=20,\n",
        "    validation_data=validation_dataset)\n"
      ],
      "metadata": {
        "id": "8jMXTPfyrsog"
      },
      "execution_count": null,
      "outputs": []
    },
    {
      "cell_type": "code",
      "source": [
        "show_history(ResNet101_history)"
      ],
      "metadata": {
        "id": "tmIv6M0zsHgY"
      },
      "execution_count": null,
      "outputs": []
    },
    {
      "cell_type": "code",
      "source": [
        "calculate_class_accuracies(ResNet101, train_dataset)"
      ],
      "metadata": {
        "id": "95Q0205R-bJA"
      },
      "execution_count": null,
      "outputs": []
    },
    {
      "cell_type": "code",
      "source": [
        "convert = tf.lite.TFLiteConverter.from_keras_model(ResNet101)\n",
        "ResNet101_tflite = convert.convert()\n",
        "\n",
        "with open(\"ResNet101.tflite\", \"wb\") as f:\n",
        "  f.write(ResNet101_tflite)"
      ],
      "metadata": {
        "id": "_FpFf8Ly-erv"
      },
      "execution_count": null,
      "outputs": []
    }
  ],
  "metadata": {
    "kaggle": {
      "accelerator": "none",
      "dataSources": [
        {
          "databundleVersionId": 11005152,
          "datasetId": 6602109,
          "sourceId": 10661516,
          "sourceType": "datasetVersion"
        }
      ],
      "dockerImageVersionId": 30918,
      "isGpuEnabled": false,
      "isInternetEnabled": true,
      "language": "python",
      "sourceType": "notebook"
    },
    "kernelspec": {
      "display_name": "Python 3",
      "name": "python3"
    },
    "language_info": {
      "codemirror_mode": {
        "name": "ipython",
        "version": 3
      },
      "file_extension": ".py",
      "mimetype": "text/x-python",
      "name": "python",
      "nbconvert_exporter": "python",
      "pygments_lexer": "ipython3",
      "version": "3.11.11"
    },
    "colab": {
      "provenance": [],
      "gpuType": "T4"
    },
    "accelerator": "GPU"
  },
  "nbformat": 4,
  "nbformat_minor": 0
}