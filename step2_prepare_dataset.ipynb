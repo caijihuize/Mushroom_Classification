{
 "cells": [
  {
   "cell_type": "markdown",
   "metadata": {},
   "source": [
    "# 数据集准备\n",
    "\n",
    "本notebook用于处理和准备训练所需的数据集，包括：\n",
    "1. 数据集下载和加载\n",
    "2. 数据预处理\n",
    "3. 数据集划分\n",
    "4. 数据增强\n",
    "5. 保存处理后的数据集"
   ]
  },
  {
   "cell_type": "code",
   "execution_count": null,
   "metadata": {
    "vscode": {
     "languageId": "plaintext"
    }
   },
   "outputs": [],
   "source": [
    "import os\n",
    "import numpy as np\n",
    "import tensorflow as tf\n",
    "from tensorflow import keras\n",
    "import matplotlib.pyplot as plt\n",
    "from pathlib import Path"
   ]
  },
  {
   "cell_type": "markdown",
   "metadata": {},
   "source": [
    "## 1.数据集获取\n",
    "\n",
    "本项目使用的蘑菇图像数据集托管在 [Kaggle](https://www.kaggle.com/) 平台上，数据集名称为 [huizecai/mushroom](https://www.kaggle.com/datasets/huizecai/mushroom)。该数据集包含了多种常见蘑菇的高清图片，以及对应的分类标签。\n",
    "\n",
    "为了方便数据获取，我们使用 `kagglehub` 库来自动下载和管理数据集。下面的代码单元格会直接从 Kaggle 下载数据集，并返回保存在本地的路径。数据集下载完成后会被缓存，后续运行时将直接使用缓存版本，无需重复下载。"
   ]
  },
  {
   "cell_type": "code",
   "execution_count": null,
   "metadata": {
    "vscode": {
     "languageId": "plaintext"
    }
   },
   "outputs": [],
   "source": [
    "# 设置数据集名称\n",
    "dataset_name = \"huizecai/mushroom\"  # 指定要下载的Kaggle数据集名称\n",
    "\n",
    "# 使用KaggleHub下载数据集\n",
    "path = kagglehub.dataset_download(dataset_name)  # 下载数据集并获取保存路径\n",
    "\n",
    "# 打印数据集文件的保存路径\n",
    "print(\"Path to dataset files:\", path)\n",
    "\n",
    "# 设置数据和标签文件的具体路径\n",
    "dataset_path = path + '/archive/data'  # 图片数据所在目录的路径\n",
    "label_path = path + '/archive/label.txt'  # 标签文件的路径"
   ]
  },
  {
   "cell_type": "markdown",
   "metadata": {},
   "source": [
    "## 2.数据集类别统计分析\n",
    "\n",
    "为了避免TensorFlow处理中文路径时可能出现的编码问题，本数据集采用了规范化的命名方式:\n",
    " - 各蘑菇种类的文件夹以\"classXX\"格式命名(XX为数字编号)\n",
    " - 使用label.txt文件建立文件夹编号与中文名称的映射关系\n",
    " - 这种设计既保证了系统兼容性，又方便了数据的管理和使用"
   ]
  },
  {
   "cell_type": "code",
   "execution_count": null,
   "metadata": {
    "vscode": {
     "languageId": "plaintext"
    }
   },
   "outputs": [],
   "source": [
    "# 获取所有子目录（即蘑菇类别）\n",
    "# os.listdir() 列出指定目录下的所有文件和文件夹\n",
    "# os.path.isdir() 判断是否为文件夹\n",
    "# 使用列表推导式获取所有蘑菇类别的文件夹名\n",
    "dir_names = [d for d in os.listdir(dataset_path) if os.path.isdir(os.path.join(dataset_path, d))]\n",
    "\n",
    "# 读取 label.txt 并解析内容\n",
    "# 创建一个空字典用于存储类别ID和名称的映射关系\n",
    "categories = {}\n",
    "# 以UTF-8编码打开label.txt文件\n",
    "with open(label_path, 'r', encoding='utf-8') as file:\n",
    "    for line in file:\n",
    "        # 去除每行首尾空白字符并按空格分割\n",
    "        parts = line.strip().split()\n",
    "        # 确保每行包含两个部分:类别名称和ID\n",
    "        if len(parts) == 2:\n",
    "            category_name = parts[0]  # 第一部分为类别名称(中文)\n",
    "            category_id = parts[1]    # 第二部分为类别ID\n",
    "            categories[category_id] = category_name  # 建立ID到名称的映射\n",
    "\n",
    "# 统计每种类别的图像数量\n",
    "# 创建空字典存储每个类别的图片数量\n",
    "category_counts = {}\n",
    "for category_id in categories.keys():\n",
    "    # 确保目录存在再进行统计\n",
    "    if category_id in dir_names:\n",
    "        # 构建完整的类别目录路径\n",
    "        category_dir = os.path.join(dataset_path, category_id)\n",
    "        # 统计jpg和jpeg格式的图片数量\n",
    "        # 使用列表推导式过滤出图片文件并计数\n",
    "        num_images = len([f for f in os.listdir(category_dir) if f.endswith('.jpg') or f.endswith('.jpeg')])\n",
    "        # 使用中文类别名称作为键存储图片数量\n",
    "        category_counts[categories[category_id]] = num_images\n",
    "\n",
    "# 打印每个类别的图片数量统计结果\n",
    "print(\"Category counts:\", category_counts)"
   ]
  },
  {
   "cell_type": "markdown",
   "metadata": {},
   "source": [
    "## 3.解决matplotlib中文显示问题\n",
    "\n",
    "matplotlib默认不支持中文字体显示,可能会出现乱码。为了确保数据可视化结果能正确展示中文:\n",
    "1. 我们将下载并使用\"SimHei\"(黑体)字体\n",
    "2. 注册字体到matplotlib的字体管理器\n",
    "3. 配置全局字体设置\n",
    "\n",
    "这样可以保证后续所有图表中的中文标题、标签等都能正常显示。"
   ]
  },
  {
   "cell_type": "code",
   "execution_count": null,
   "metadata": {
    "vscode": {
     "languageId": "plaintext"
    }
   },
   "outputs": [],
   "source": [
    "# 创建img目录(如果不存在)\n",
    "if not os.path.exists('img'):\n",
    "    os.makedirs('img')\n",
    "\n",
    "# 设置字体文件的URL和本地保存路径\n",
    "font_url = \"https://github.com/caijihuize/Mushroom_Classification/raw/main/SimHei.ttf\"  # 黑体字体文件的URL\n",
    "font_name = \"SimHei.ttf\"  # 本地保存的字体文件名\n",
    "\n",
    "# 如果字体文件不存在则下载\n",
    "if not os.path.exists(font_name):\n",
    "    # 使用requests下载字体文件\n",
    "    response = requests.get(font_url)\n",
    "    # 检查请求是否成功\n",
    "    if response.status_code == 200:\n",
    "        # 将内容写入文件\n",
    "        with open(font_name, 'wb') as f:\n",
    "            f.write(response.content)\n",
    "    else:\n",
    "        print(f\"下载字体文件失败,状态码: {response.status_code}\")\n",
    "\n",
    "# 配置matplotlib的字体设置\n",
    "fontManager.addfont(font_name)  # 将字体文件添加到matplotlib的字体管理器\n",
    "font_prop = FontProperties(fname=font_name)  # 创建字体属性对象\n",
    "\n",
    "# 设置全局字体配置\n",
    "plt.rcParams['font.family'] = 'SimHei'  # 设置默认字体为黑体\n",
    "plt.rcParams['axes.unicode_minus'] = False  # 解决负号显示问题\n",
    "plt.rcParams['font.size'] = 10  # 设置全局字体大小\n",
    "plt.rcParams['axes.titlesize'] = 10  # 设置标题字体大小\n",
    "plt.rcParams['axes.labelsize'] = 8  # 设置轴标签字体大小\n",
    "plt.rcParams['figure.dpi'] = 300  # 设置图形DPI为300,提高显示清晰度\n",
    "plt.rcParams['savefig.dpi'] = 600  # 设置保存图片的DPI为600,提高保存图片的清晰度\n",
    "\n",
    "# 绘制测试图表验证中文显示\n",
    "plt.figure(figsize=(6.4, 4))  # 设置图形大小\n",
    "plt.title('这是一个标题', fontsize=10)  # 设置标题\n",
    "plt.xlabel('X轴标签', fontsize=8)  # 设置X轴标签\n",
    "plt.ylabel('Y轴标签', fontsize=8)  # 设置Y轴标签\n",
    "plt.plot([0, 1, 2, 3], [0, 1, 4, 9], linewidth=1)  # 绘制简单的折线图,增加线宽提高清晰度\n",
    "\n",
    "# 保存图表到img目录,使用更高质量的设置\n",
    "plt.savefig('img/test_plot.png',\n",
    "            bbox_inches='tight',  # 自动调整边界\n",
    "            format='png',  # 使用PNG格式保存\n",
    "            facecolor='white',  # 设置白色背景\n",
    "            edgecolor='none',  # 无边框\n",
    "            transparent=False)  # 不透明\n",
    "plt.show()  # 显示图表"
   ]
  },
  {
   "cell_type": "markdown",
   "metadata": {},
   "source": [
    "## 4.绘制各种类图片数量的柱状图"
   ]
  },
  {
   "cell_type": "code",
   "execution_count": null,
   "metadata": {
    "vscode": {
     "languageId": "plaintext"
    }
   },
   "outputs": [],
   "source": [
    "# 准备数据\n",
    "categories_readable = list(category_counts.keys())  # 获取所有蘑菇种类名称\n",
    "counts = list(category_counts.values())  # 获取每个种类对应的图片数量\n",
    "\n",
    "# 创建一个新的图形，设置更大的尺寸以便更好地展示数据\n",
    "plt.figure(figsize=(6.4, 9))\n",
    "\n",
    "# 创建颜色渐变 - 根据数量排序，数量越多颜色越亮\n",
    "# 首先创建数量和类别的映射关系\n",
    "count_category_pairs = list(zip(counts, categories_readable))\n",
    "# 按照数量排序\n",
    "count_category_pairs.sort(key=lambda x: x[0])\n",
    "# 提取排序后的类别和数量\n",
    "sorted_categories = [pair[1] for pair in count_category_pairs]\n",
    "sorted_counts = [pair[0] for pair in count_category_pairs]\n",
    "\n",
    "# 创建颜色映射，使用较为柔和的颜色差异\n",
    "# 使用单一色系的渐变，减小颜色差异\n",
    "norm = plt.Normalize(min(counts), max(counts))\n",
    "# 使用Blues色系，颜色差异较小\n",
    "colors = plt.cm.Blues(norm(counts) * 0.7 + 0.3)  # 缩小颜色范围，增加最小值，减小颜色差异\n",
    "\n",
    "# 绘制水平柱状图，使用柔和的颜色\n",
    "bars = plt.barh(categories_readable, counts, color=colors, height=0.7,\n",
    "                edgecolor='gray', linewidth=0.5, alpha=0.9)  # 增加透明度使颜色更柔和\n",
    "\n",
    "# 在每个柱子右侧添加数值标签\n",
    "for i, bar in enumerate(bars):\n",
    "    width = bar.get_width()  # 获取柱子的宽度(即图片数量)\n",
    "    plt.text(width + 2, bar.get_y() + bar.get_height()/2, f'{int(width)}',\n",
    "             va='center', ha='left', fontsize=10, fontweight='bold',\n",
    "             color='darkblue')  # 美化标签样式\n",
    "\n",
    "# 设置图表标题和轴标签\n",
    "plt.xlabel('图片数量', fontsize=12, labelpad=8)  # 设置x轴标签并增加内边距\n",
    "plt.ylabel('蘑菇种类', fontsize=12, labelpad=8)  # 设置y轴标签并增加内边距\n",
    "\n",
    "# 设置坐标轴样式\n",
    "plt.tick_params(axis='both', which='major', labelsize=10)  # 增大刻度标签字体\n",
    "plt.xlim(25, max(counts) + max(counts)*0.1)  # 设置x轴范围，留出更多空间\n",
    "\n",
    "# 添加网格线\n",
    "plt.grid(axis='x', linestyle='--', alpha=0.4, color='gray')  # 使用更淡的网格线\n",
    "\n",
    "# 添加背景色\n",
    "plt.gca().set_facecolor('#f8f9fa')  # 设置浅灰色背景\n",
    "plt.gca().spines['top'].set_visible(False)  # 移除上边框\n",
    "plt.gca().spines['right'].set_visible(False)  # 移除右边框\n",
    "plt.gca().spines['left'].set_linewidth(0.5)  # 减小左边框宽度\n",
    "plt.gca().spines['bottom'].set_linewidth(0.5)  # 减小下边框宽度\n",
    "\n",
    "# 自动调整布局，防止标签被截断\n",
    "plt.tight_layout()\n",
    "\n",
    "# 保存图表到img目录，使用更高质量的设置\n",
    "plt.savefig('img/mushroom_distribution.png',\n",
    "            bbox_inches='tight',\n",
    "            dpi=800,\n",
    "            facecolor='#f8f9fa')  # 保存高质量图片，保持背景色一致\n",
    "\n",
    "# 显示图形\n",
    "plt.show()"
   ]
  },
  {
   "cell_type": "markdown",
   "metadata": {},
   "source": [
    "## 5.加载图像数据集\n",
    "\n",
    "使用 TensorFlow 的 [image_dataset_from_directory](https://tensorflow.google.cn/api_docs/python/tf/keras/preprocessing/image_dataset_from_directory?hl=en) 函数加载和准备图像数据集：\n",
    "\n",
    "\n",
    "*   directory=dataset_path ：指定图像数据所在的路径。\n",
    "*   image_size=(224, 224) ：指定每个图像的大小为224x224像素。\n",
    "*   batch_size=32 ：指定每个批次包含32张图像。\n",
    "*   validation_split=0.2 ：指定20%的数据作为验证集。\n",
    "*   subset='both' ：指定同时返回训练集和验证集。\n",
    "*   label_mode='categorical' ：指定标签模式为分类模式，返回one-hot编码的标签。\n",
    "*   seed=66 ：设置随机种子以确保数据集的可重复性。"
   ]
  },
  {
   "cell_type": "code",
   "execution_count": null,
   "metadata": {
    "vscode": {
     "languageId": "plaintext"
    }
   },
   "outputs": [],
   "source": [
    "# 加载和准备图像数据集\n",
    "train_dataset, validation_dataset = tf.keras.preprocessing.image_dataset_from_directory(\n",
    "    directory=dataset_path,\n",
    "    image_size=(224, 224),\n",
    "    batch_size=32,\n",
    "    validation_split=0.2,\n",
    "    subset='both',\n",
    "    label_mode='categorical',\n",
    "    seed=66\n",
    ")"
   ]
  },
  {
   "cell_type": "markdown",
   "metadata": {},
   "source": [
    "## 6.计算训练集和验证集中各类别图像的分布情况\n",
    "\n",
    "下面我们将统计训练集和验证集中每个蘑菇类别的图像数量，以便了解数据集的分布特征。"
   ]
  },
  {
   "cell_type": "code",
   "execution_count": null,
   "metadata": {
    "vscode": {
     "languageId": "plaintext"
    }
   },
   "outputs": [],
   "source": [
    "# 获取类别名称\n",
    "class_names = train_dataset.class_names\n",
    "# 从训练数据集中获取所有类别的名称列表\n",
    "\n",
    "# 初始化字典用于存储每种类别的图像数量\n",
    "train_category_counts = {name: 0 for name in categories.values()}\n",
    "validation_category_counts = {name: 0 for name in categories.values()}\n",
    "# 创建两个字典，分别用于存储训练集和验证集中每个类别的图像数量\n",
    "# 使用字典推导式初始化，键为类别的中文名称，值初始化为0\n",
    "\n",
    "# 统计训练集中的图像数量\n",
    "for images, labels in train_dataset:\n",
    "    # 遍历训练数据集中的每个批次，每个批次包含图像和对应的标签\n",
    "    for label in labels.numpy():\n",
    "        # 将标签张量转换为numpy数组并遍历\n",
    "        category_name = class_names[np.argmax(label)]\n",
    "        # np.argmax(label)找出one-hot编码中值为1的索引位置\n",
    "        # 通过索引从class_names中获取对应的类别名称\n",
    "        train_category_counts[categories[category_name]] += 1\n",
    "        # 将该类别在训练集中的计数加1，使用categories字典将英文名映射为中文名\n",
    "\n",
    "# 统计验证集中的图像数量\n",
    "for images, labels in validation_dataset:\n",
    "    # 遍历验证数据集中的每个批次\n",
    "    for label in labels.numpy():\n",
    "        # 同样处理验证集中的标签\n",
    "        category_name = class_names[np.argmax(label)]\n",
    "        validation_category_counts[categories[category_name]] += 1\n",
    "        # 将该类别在验证集中的计数加1\n",
    "\n",
    "# 打印统计结果\n",
    "print(\"训练集类别图像数量统计:\", train_category_counts)\n",
    "print(\"验证集类别图像数量统计:\", validation_category_counts)\n",
    "# 输出训练集和验证集中各个类别的图像数量统计结果"
   ]
  },
  {
   "cell_type": "markdown",
   "metadata": {},
   "source": [
    "## 7.显示数据集中的图像样本"
   ]
  },
  {
   "cell_type": "code",
   "execution_count": null,
   "metadata": {
    "vscode": {
     "languageId": "plaintext"
    }
   },
   "outputs": [],
   "source": [
    "# 获取训练数据集中的类别名称\n",
    "class_names = train_dataset.class_names\n",
    "\n",
    "# 设置要在图中显示的随机样本图像数量\n",
    "num_images_to_show = 4\n",
    "\n",
    "# 初始化存储图像和标签的列表\n",
    "images_to_display = []  # 用于存储待显示的图像\n",
    "labels_to_display = []  # 用于存储对应的标签\n",
    "\n",
    "# 从训练数据集中随机抽取一批数据\n",
    "for images, labels in train_dataset.take(1):\n",
    "    # 随机选择指定数量的图像索引,不重复\n",
    "    indices = np.random.choice(range(images.shape[0]),\n",
    "                             num_images_to_show,\n",
    "                             replace=False)\n",
    "\n",
    "    # 根据随机索引获取对应的图像和标签\n",
    "    for index in indices:\n",
    "        images_to_display.append(images[index])\n",
    "        labels_to_display.append(labels[index])\n",
    "\n",
    "# 创建1行num_images_to_show列的子图网格\n",
    "fig, axes = plt.subplots(1, num_images_to_show, figsize=(6.4, 4))\n",
    "\n",
    "# 遍历显示每张图像\n",
    "for i, (image, label) in enumerate(zip(images_to_display, labels_to_display)):\n",
    "    ax = axes[i]\n",
    "    # 将图像数据转换为uint8类型并显示\n",
    "    ax.imshow(image.numpy().astype(\"uint8\"))\n",
    "    # 设置图像标题为对应的蘑菇类别名称\n",
    "    ax.set_title(categories[class_names[np.argmax(label.numpy())]],\n",
    "                fontsize=12)\n",
    "    # 关闭坐标轴显示\n",
    "    ax.axis(\"off\")\n",
    "\n",
    "# 自动调整子图之间的间距\n",
    "plt.tight_layout()\n",
    "\n",
    "# 保存图形\n",
    "plt.savefig('img/mushroom_samples.png', dpi=800, bbox_inches='tight')\n",
    "\n",
    "# 显示整个图形\n",
    "plt.show()"
   ]
  }
 ],
 "metadata": {
  "language_info": {
   "name": "python"
  }
 },
 "nbformat": 4,
 "nbformat_minor": 2
}
