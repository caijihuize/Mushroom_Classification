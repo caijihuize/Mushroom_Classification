{
 "cells": [
  {
   "cell_type": "code",
   "execution_count": null,
   "metadata": {
    "vscode": {
     "languageId": "plaintext"
    }
   },
   "outputs": [],
   "source": [
    "import os\n",
    "import numpy as np\n",
    "import tensorflow as tf\n",
    "from tensorflow import keras\n",
    "import matplotlib.pyplot as plt\n",
    "from pathlib import Path\n",
    "import requests\n",
    "from matplotlib.font_manager import FontProperties, fontManager\n",
    "import pandas as pd\n",
    "import kagglehub\n",
    "import shutil\n",
    "import datetime\n",
    "\n",
    "# 创建必要的目录\n",
    "for dir_name in ['img', 'csv', 'datasets']:\n",
    "    if not os.path.exists(dir_name):\n",
    "        os.makedirs(dir_name)"
   ]
  },
  {
   "cell_type": "markdown",
   "metadata": {},
   "source": [
    "# 1.数据集获取\n",
    "\n",
    "本项目使用的蘑菇图像数据集托管在 [Kaggle](https://www.kaggle.com/) 平台上，数据集名称为 [huizecai/mushroom](https://www.kaggle.com/datasets/huizecai/mushroom)。\n",
    "该数据集包含了多种常见蘑菇的高清图片，以及对应的分类标签。\n",
    "\n",
    "为了方便数据获取，我们使用 `kagglehub` 库来自动下载和管理数据集。\n",
    "下面的代码会直接从 Kaggle 下载数据集，并返回保存在本地的路径。\n",
    "数据集下载完成后会被缓存，后续运行时将直接使用缓存版本，无需重复下载。"
   ]
  },
  {
   "cell_type": "code",
   "execution_count": null,
   "metadata": {
    "vscode": {
     "languageId": "plaintext"
    }
   },
   "outputs": [],
   "source": [
    "# 设置数据集名称\n",
    "dataset_name = \"huizecai/mushroom\"  # 指定要下载的Kaggle数据集名称\n",
    "\n",
    "# 使用KaggleHub下载数据集\n",
    "path = kagglehub.dataset_download(dataset_name)  # 下载数据集并获取保存路径\n",
    "\n",
    "# 打印数据集文件的保存路径\n",
    "print(\"Path to dataset files:\", path)\n",
    "\n",
    "# 设置数据和标签文件的具体路径\n",
    "dataset_path = path + '/archive/data'  # 图片数据所在目录的路径\n",
    "label_path = path + '/archive/label.txt'  # 标签文件的路径"
   ]
  },
  {
   "cell_type": "markdown",
   "metadata": {},
   "source": [
    "# 2.数据集类别统计分析\n",
    "\n",
    "为了避免TensorFlow处理中文路径时可能出现的编码问题，本数据集采用了规范化的命名方式:\n",
    " - 各蘑菇种类的文件夹以\"classXX\"格式命名(XX为数字编号)\n",
    " - 使用label.txt文件建立文件夹编号与中文名称的映射关系\n",
    " - 这种设计既保证了系统兼容性，又方便了数据的管理和使用"
   ]
  },
  {
   "cell_type": "code",
   "execution_count": null,
   "metadata": {
    "vscode": {
     "languageId": "plaintext"
    }
   },
   "outputs": [],
   "source": [
    "# 获取所有子目录（即蘑菇类别）\n",
    "dir_names = [d for d in os.listdir(dataset_path) if os.path.isdir(os.path.join(dataset_path, d))]\n",
    "\n",
    "# 读取 label.txt 并解析内容\n",
    "categories = {}  # 创建一个空字典用于存储类别ID和名称的映射关系\n",
    "with open(label_path, 'r', encoding='utf-8') as file:\n",
    "    for line in file:\n",
    "        parts = line.strip().split()\n",
    "        if len(parts) == 2:\n",
    "            category_name = parts[0]  # 第一部分为类别名称(中文)\n",
    "            category_id = parts[1]    # 第二部分为类别ID\n",
    "            categories[category_id] = category_name  # 建立ID到名称的映射\n",
    "\n",
    "# 统计每种类别的图像数量\n",
    "category_counts = {}  # 创建空字典存储每个类别的图片数量\n",
    "for category_id in categories.keys():\n",
    "    if category_id in dir_names:\n",
    "        category_dir = os.path.join(dataset_path, category_id)\n",
    "        num_images = len([f for f in os.listdir(category_dir) if f.endswith('.jpg') or f.endswith('.jpeg')])\n",
    "        category_counts[categories[category_id]] = num_images\n",
    "\n",
    "# 打印每个类别的图片数量统计结果\n",
    "print(\"Category counts:\", category_counts)\n",
    "\n",
    "# 保存类别统计结果到CSV文件\n",
    "category_df = pd.DataFrame(list(category_counts.items()), columns=['蘑菇种类', '图片数量'])\n",
    "category_df.to_csv('csv/category_counts.csv', index=False, encoding='utf-8-sig')"
   ]
  },
  {
   "cell_type": "markdown",
   "metadata": {},
   "source": [
    "# 3.解决matplotlib中文显示问题\n",
    "\n",
    "matplotlib默认不支持中文字体显示,可能会出现乱码。为了确保数据可视化结果能正确展示中文:\n",
    "1. 我们将下载并使用\"SimHei\"(黑体)字体\n",
    "2. 注册字体到matplotlib的字体管理器\n",
    "3. 配置全局字体设置\n",
    "\n",
    "这样可以保证后续所有图表中的中文标题、标签等都能正常显示。"
   ]
  },
  {
   "cell_type": "code",
   "execution_count": null,
   "metadata": {
    "vscode": {
     "languageId": "plaintext"
    }
   },
   "outputs": [],
   "source": [
    "# 设置字体文件的URL和本地保存路径\n",
    "font_url = \"https://github.com/caijihuize/Mushroom_Classification/raw/main/SimHei.ttf\"\n",
    "font_name = \"SimHei.ttf\"\n",
    "\n",
    "# 如果字体文件不存在则下载\n",
    "if not os.path.exists(font_name):\n",
    "    response = requests.get(font_url)\n",
    "    if response.status_code == 200:\n",
    "        with open(font_name, 'wb') as f:\n",
    "            f.write(response.content)\n",
    "    else:\n",
    "        print(f\"下载字体文件失败,状态码: {response.status_code}\")\n",
    "\n",
    "# 配置matplotlib的字体设置\n",
    "fontManager.addfont(font_name)\n",
    "font_prop = FontProperties(fname=font_name)\n",
    "\n",
    "# 设置全局字体配置\n",
    "plt.rcParams['font.family'] = 'SimHei'\n",
    "plt.rcParams['axes.unicode_minus'] = False\n",
    "plt.rcParams['font.size'] = 10\n",
    "plt.rcParams['axes.titlesize'] = 10\n",
    "plt.rcParams['axes.labelsize'] = 8\n",
    "plt.rcParams['figure.dpi'] = 300\n",
    "plt.rcParams['savefig.dpi'] = 600"
   ]
  },
  {
   "cell_type": "markdown",
   "metadata": {},
   "source": [
    "# 4.绘制各种类图片数量的柱状图"
   ]
  },
  {
   "cell_type": "code",
   "execution_count": null,
   "metadata": {
    "vscode": {
     "languageId": "plaintext"
    }
   },
   "outputs": [],
   "source": [
    "# 准备数据\n",
    "categories_readable = list(category_counts.keys())\n",
    "counts = list(category_counts.values())\n",
    "\n",
    "# 创建一个新的图形\n",
    "plt.figure(figsize=(6.4, 9))\n",
    "\n",
    "# 创建颜色渐变\n",
    "count_category_pairs = list(zip(counts, categories_readable))\n",
    "count_category_pairs.sort(key=lambda x: x[0])\n",
    "sorted_categories = [pair[1] for pair in count_category_pairs]\n",
    "sorted_counts = [pair[0] for pair in count_category_pairs]\n",
    "\n",
    "# 创建颜色映射\n",
    "norm = plt.Normalize(min(counts), max(counts))\n",
    "colors = plt.cm.Blues(norm(counts) * 0.7 + 0.3)\n",
    "\n",
    "# 绘制水平柱状图\n",
    "bars = plt.barh(categories_readable, counts, color=colors, height=0.7,\n",
    "                edgecolor='gray', linewidth=0.5, alpha=0.9)\n",
    "\n",
    "# 添加数值标签\n",
    "for i, bar in enumerate(bars):\n",
    "    width = bar.get_width()\n",
    "    plt.text(width + 2, bar.get_y() + bar.get_height()/2, f'{int(width)}',\n",
    "             va='center', ha='left', fontsize=10, fontweight='bold',\n",
    "             color='darkblue')\n",
    "\n",
    "# 设置图表标题和轴标签\n",
    "plt.xlabel('图片数量', fontsize=12, labelpad=8)\n",
    "plt.ylabel('蘑菇种类', fontsize=12, labelpad=8)\n",
    "\n",
    "# 设置坐标轴样式\n",
    "plt.tick_params(axis='both', which='major', labelsize=10)\n",
    "plt.xlim(25, max(counts) + max(counts)*0.1)\n",
    "\n",
    "# 添加网格线\n",
    "plt.grid(axis='x', linestyle='--', alpha=0.4, color='gray')\n",
    "\n",
    "# 添加背景色\n",
    "plt.gca().set_facecolor('#f8f9fa')\n",
    "plt.gca().spines['top'].set_visible(False)\n",
    "plt.gca().spines['right'].set_visible(False)\n",
    "plt.gca().spines['left'].set_linewidth(0.5)\n",
    "plt.gca().spines['bottom'].set_linewidth(0.5)\n",
    "\n",
    "# 自动调整布局\n",
    "plt.tight_layout()\n",
    "\n",
    "# 保存图表\n",
    "plt.savefig('img/mushroom_distribution.png',\n",
    "            bbox_inches='tight',\n",
    "            dpi=800,\n",
    "            facecolor='#f8f9fa')\n",
    "\n",
    "# 显示图形\n",
    "plt.show()"
   ]
  },
  {
   "cell_type": "markdown",
   "metadata": {},
   "source": [
    "# 5.加载图像数据集\n",
    "\n",
    "使用 TensorFlow 的 image_dataset_from_directory 函数加载和准备图像数据集：\n",
    "- directory=dataset_path ：指定图像数据所在的路径\n",
    "- image_size=(224, 224) ：指定每个图像的大小为224x224像素\n",
    "- batch_size=32 ：指定每个批次包含32张图像\n",
    "- validation_split=0.2 ：指定20%的数据作为验证集\n",
    "- subset='both' ：指定同时返回训练集和验证集\n",
    "- label_mode='categorical' ：指定标签模式为分类模式，返回one-hot编码的标签\n",
    "- seed=66 ：设置随机种子以确保数据集的可重复性"
   ]
  },
  {
   "cell_type": "code",
   "execution_count": null,
   "metadata": {
    "vscode": {
     "languageId": "plaintext"
    }
   },
   "outputs": [],
   "source": [
    "# 加载和准备图像数据集\n",
    "train_dataset, validation_dataset = tf.keras.preprocessing.image_dataset_from_directory(\n",
    "    directory=dataset_path,\n",
    "    image_size=(224, 224),\n",
    "    batch_size=32,\n",
    "    validation_split=0.2,\n",
    "    subset='both',\n",
    "    label_mode='categorical',\n",
    "    seed=66\n",
    ")"
   ]
  },
  {
   "cell_type": "markdown",
   "metadata": {},
   "source": [
    "# 6.计算训练集和验证集中各类别图像的分布情况\n",
    "\n",
    "统计训练集和验证集中每个蘑菇类别的图像数量，以便了解数据集的分布特征。"
   ]
  },
  {
   "cell_type": "code",
   "execution_count": null,
   "metadata": {
    "vscode": {
     "languageId": "plaintext"
    }
   },
   "outputs": [],
   "source": [
    "# 获取类别名称\n",
    "class_names = train_dataset.class_names\n",
    "\n",
    "# 初始化字典用于存储每种类别的图像数量\n",
    "train_category_counts = {name: 0 for name in categories.values()}\n",
    "validation_category_counts = {name: 0 for name in categories.values()}\n",
    "\n",
    "# 统计训练集中的图像数量\n",
    "for images, labels in train_dataset:\n",
    "    for label in labels.numpy():\n",
    "        category_name = class_names[np.argmax(label)]\n",
    "        train_category_counts[categories[category_name]] += 1\n",
    "\n",
    "# 统计验证集中的图像数量\n",
    "for images, labels in validation_dataset:\n",
    "    for label in labels.numpy():\n",
    "        category_name = class_names[np.argmax(label)]\n",
    "        validation_category_counts[categories[category_name]] += 1\n",
    "\n",
    "# 打印统计结果\n",
    "print(\"训练集类别图像数量统计:\", train_category_counts)\n",
    "print(\"验证集类别图像数量统计:\", validation_category_counts)\n",
    "\n",
    "# 保存训练集和验证集统计结果到CSV文件\n",
    "train_val_df = pd.DataFrame({\n",
    "    '蘑菇种类': list(train_category_counts.keys()),\n",
    "    '训练集数量': list(train_category_counts.values()),\n",
    "    '验证集数量': list(validation_category_counts.values())\n",
    "})\n",
    "train_val_df.to_csv('csv/train_val_counts.csv', index=False, encoding='utf-8-sig')\n",
    "\n",
    "# 保存训练集和验证集\n",
    "print(\"正在保存训练集和验证集...\")\n",
    "# 保存训练集\n",
    "train_dataset.save('datasets/train_dataset')\n",
    "print(\"训练集已保存到 datasets/train_dataset\")\n",
    "\n",
    "# 保存验证集\n",
    "validation_dataset.save('datasets/validation_dataset')\n",
    "print(\"验证集已保存到 datasets/validation_dataset\")"
   ]
  },
  {
   "cell_type": "markdown",
   "metadata": {},
   "source": [
    "# 7.绘制训练集和验证集图片数量对比图"
   ]
  },
  {
   "cell_type": "code",
   "execution_count": null,
   "metadata": {
    "vscode": {
     "languageId": "plaintext"
    }
   },
   "outputs": [],
   "source": [
    "# 准备数据\n",
    "categories = list(train_category_counts.keys())\n",
    "train_counts = list(train_category_counts.values())\n",
    "validation_counts = list(validation_category_counts.values())\n",
    "\n",
    "# 设置图表大小和样式\n",
    "plt.figure(figsize=(12, 8))\n",
    "\n",
    "# 设置柱状图的位置\n",
    "x = np.arange(len(categories))\n",
    "width = 0.35\n",
    "\n",
    "# 绘制柱状图\n",
    "train_bars = plt.bar(x - width/2, train_counts, width, label='训练集', color='#2E86C1', alpha=0.8)\n",
    "val_bars = plt.bar(x + width/2, validation_counts, width, label='验证集', color='#E74C3C', alpha=0.8)\n",
    "\n",
    "# 添加数值标签\n",
    "def add_labels(bars):\n",
    "    for bar in bars:\n",
    "        height = bar.get_height()\n",
    "        plt.text(bar.get_x() + bar.get_width()/2., height,\n",
    "                f'{int(height)}',\n",
    "                ha='center', va='bottom', fontsize=8)\n",
    "\n",
    "add_labels(train_bars)\n",
    "add_labels(val_bars)\n",
    "\n",
    "# 设置图表标题和轴标签\n",
    "plt.title('训练集和验证集图片数量对比', fontsize=14, pad=20)\n",
    "plt.xlabel('蘑菇种类', fontsize=12, labelpad=10)\n",
    "plt.ylabel('图片数量', fontsize=12, labelpad=10)\n",
    "\n",
    "# 设置x轴刻度和标签\n",
    "plt.xticks(x, categories, rotation=45, ha='right', fontsize=10)\n",
    "\n",
    "# 添加图例\n",
    "plt.legend(fontsize=10)\n",
    "\n",
    "# 添加网格线\n",
    "plt.grid(axis='y', linestyle='--', alpha=0.3)\n",
    "\n",
    "# 设置背景样式\n",
    "plt.gca().set_facecolor('#f8f9fa')\n",
    "plt.gca().spines['top'].set_visible(False)\n",
    "plt.gca().spines['right'].set_visible(False)\n",
    "\n",
    "# 自动调整布局\n",
    "plt.tight_layout()\n",
    "\n",
    "# 保存图表\n",
    "plt.savefig('img/train_val_comparison.png',\n",
    "            bbox_inches='tight',\n",
    "            dpi=800,\n",
    "            facecolor='#f8f9fa')\n",
    "\n",
    "# 显示图形\n",
    "plt.show()"
   ]
  },
  {
   "cell_type": "markdown",
   "metadata": {},
   "source": [
    "# 8.显示数据集中的图像样本"
   ]
  },
  {
   "cell_type": "code",
   "execution_count": null,
   "metadata": {
    "vscode": {
     "languageId": "plaintext"
    }
   },
   "outputs": [],
   "source": [
    "# 获取训练数据集中的类别名称\n",
    "class_names = train_dataset.class_names\n",
    "\n",
    "# 设置要在图中显示的随机样本图像数量\n",
    "num_images_to_show = 4\n",
    "\n",
    "# 初始化存储图像和标签的列表\n",
    "images_to_display = []\n",
    "labels_to_display = []\n",
    "\n",
    "# 从训练数据集中随机抽取一批数据\n",
    "for images, labels in train_dataset.take(1):\n",
    "    indices = np.random.choice(range(images.shape[0]),\n",
    "                             num_images_to_show,\n",
    "                             replace=False)\n",
    "\n",
    "    for index in indices:\n",
    "        images_to_display.append(images[index])\n",
    "        labels_to_display.append(labels[index])\n",
    "\n",
    "# 创建子图网格\n",
    "fig, axes = plt.subplots(1, num_images_to_show, figsize=(6.4, 4))\n",
    "\n",
    "# 遍历显示每张图像\n",
    "for i, (image, label) in enumerate(zip(images_to_display, labels_to_display)):\n",
    "    ax = axes[i]\n",
    "    ax.imshow(image.numpy().astype(\"uint8\"))\n",
    "    ax.set_title(categories[class_names[np.argmax(label.numpy())]],\n",
    "                fontsize=12)\n",
    "    ax.axis(\"off\")\n",
    "\n",
    "# 自动调整子图之间的间距\n",
    "plt.tight_layout()\n",
    "\n",
    "# 保存图形\n",
    "plt.savefig('img/mushroom_samples.png', dpi=800, bbox_inches='tight')\n",
    "\n",
    "# 显示整个图形\n",
    "plt.show()"
   ]
  },
  {
   "cell_type": "markdown",
   "metadata": {},
   "source": [
    "# 9.压缩文件\n",
    "\n",
    "将生成的img、csv和datasets文件夹压缩成一个zip文件，方便后续使用和分享。"
   ]
  },
  {
   "cell_type": "code",
   "execution_count": null,
   "metadata": {
    "vscode": {
     "languageId": "plaintext"
    }
   },
   "outputs": [],
   "source": [
    "# 获取当前时间作为文件名的一部分\n",
    "current_time = datetime.datetime.now().strftime(\"%Y%m%d_%H%M%S\")\n",
    "zip_filename = f\"step2_return_{current_time}.zip\"\n",
    "\n",
    "# 创建压缩文件\n",
    "shutil.make_archive(\n",
    "    base_name=f\"step2_return_{current_time}\",  # 压缩文件名（不含扩展名）\n",
    "    format='zip',                             # 压缩格式\n",
    "    root_dir='.',                             # 要压缩的根目录\n",
    "    base_dir=['img', 'csv', 'datasets']       # 要包含的文件夹\n",
    ")\n",
    "\n",
    "print(f\"压缩文件已创建：{zip_filename}\")"
   ]
  }
 ],
 "metadata": {
  "language_info": {
   "name": "python"
  }
 },
 "nbformat": 4,
 "nbformat_minor": 2
}
